{
 "cells": [
  {
   "cell_type": "code",
   "execution_count": 1,
   "metadata": {},
   "outputs": [
    {
     "name": "stdout",
     "output_type": "stream",
     "text": [
      "Downloading ptb.train.txt... \n",
      "Done\n"
     ]
    }
   ],
   "source": [
    "import sys\n",
    "sys.path.append('/Users/jonas/DL_scratch2') # use parents directory files\n",
    "from dataset import ptb\n",
    "\n",
    "corpus, wtoi, itow = ptb.load_data('train')"
   ]
  },
  {
   "cell_type": "code",
   "execution_count": 3,
   "metadata": {},
   "outputs": [
    {
     "name": "stdout",
     "output_type": "stream",
     "text": [
      "말뭉치 크기: 929589\n",
      "corpus[ :30]: [ 0  1  2  3  4  5  6  7  8  9 10 11 12 13 14 15 16 17 18 19 20 21 22 23\n",
      " 24 25 26 27 28 29]\n",
      "\n",
      "id to word[0]: aer\n",
      "id to word[1]: banknote\n",
      "id to word[2]: berlitz\n",
      "\n",
      "word to id['car']: 3856\n",
      "word to id['happy']: 4428\n",
      "word to id['lexus']: 7426\n"
     ]
    }
   ],
   "source": [
    "print('말뭉치 크기: {}'.format(len(corpus)))\n",
    "print('corpus[ :30]: {}'.format(corpus[:30]))\n",
    "print()\n",
    "print('id to word[0]: {}'.format(itow[0]))\n",
    "print('id to word[1]: {}'.format(itow[1]))\n",
    "print('id to word[2]: {}'.format(itow[2]))\n",
    "print()\n",
    "print(\"word to id['car']: {}\\nword to id['happy']: {}\\nword to id['lexus']: {}\".format(\n",
    "    wtoi['car'], wtoi['happy'], wtoi['lexus']))"
   ]
  },
  {
   "cell_type": "markdown",
   "metadata": {},
   "source": [
    "ptb 데이터는 929589개의 word로 이뤄진 한 덩이의 말뭉치임을 알 수 있음"
   ]
  },
  {
   "cell_type": "code",
   "execution_count": null,
   "metadata": {},
   "outputs": [],
   "source": []
  }
 ],
 "metadata": {
  "kernelspec": {
   "display_name": "Python 3",
   "language": "python",
   "name": "python3"
  },
  "language_info": {
   "codemirror_mode": {
    "name": "ipython",
    "version": 3
   },
   "file_extension": ".py",
   "mimetype": "text/x-python",
   "name": "python",
   "nbconvert_exporter": "python",
   "pygments_lexer": "ipython3",
   "version": "3.8.5"
  }
 },
 "nbformat": 4,
 "nbformat_minor": 4
}
