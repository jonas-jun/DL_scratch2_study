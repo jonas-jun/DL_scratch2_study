{
 "cells": [
  {
   "cell_type": "code",
   "execution_count": 1,
   "metadata": {},
   "outputs": [],
   "source": [
    "import sys\n",
    "sys.path.append('/Users/jonas/DL_scratch2') # use parents directory files\n",
    "import numpy as np\n",
    "import matplotlib.pyplot as plt\n",
    "from common.util import preprocess, create_co_matrix, ppmi"
   ]
  },
  {
   "cell_type": "code",
   "execution_count": 2,
   "metadata": {},
   "outputs": [],
   "source": [
    "text = 'You say goodbye and I say hello. I will follow you wherever you go.'\n",
    "corpus, wtoi, itow = preprocess(text)\n",
    "vocab_size = len(wtoi)\n",
    "C = create_co_matrix(corpus, vocab_size, window_size=1)\n",
    "W = ppmi(C)"
   ]
  },
  {
   "cell_type": "code",
   "execution_count": 7,
   "metadata": {},
   "outputs": [
    {
     "name": "stdout",
     "output_type": "stream",
     "text": [
      "shape of W: (11, 11)\n"
     ]
    },
    {
     "data": {
      "text/plain": [
       "array([0.       , 1.9068906, 0.       , 0.       , 0.       , 0.       ,\n",
       "       2.321928 , 0.       , 0.       , 0.       , 0.       ],\n",
       "      dtype=float32)"
      ]
     },
     "execution_count": 7,
     "metadata": {},
     "output_type": "execute_result"
    }
   ],
   "source": [
    "print('shape of W: {}'.format(W.shape))\n",
    "W[wtoi['hello']]"
   ]
  },
  {
   "cell_type": "markdown",
   "metadata": {},
   "source": [
    "### SVD에 의한 차원 감소\n",
    "\n",
    "위는 'hello'의 ppmi vector이다. 0이 많은 sparse vector라 할 수 있다. 좀 더 밀집한 vector로 만들어줄 필요가 있다.\n",
    "\n",
    "중요한 정보를 남기면서 matrix의 사이즈를 줄이는 것이 SVD: Singular Value Decomposition 이다."
   ]
  },
  {
   "cell_type": "code",
   "execution_count": 8,
   "metadata": {},
   "outputs": [
    {
     "data": {
      "text/plain": [
       "array([-0.2897133 ,  0.2984982 ,  0.10817307,  0.08706231,  0.4089331 ,\n",
       "       -0.4163879 , -0.1869991 ,  0.19241607, -0.4563248 , -0.42033014,\n",
       "       -0.10087755], dtype=float32)"
      ]
     },
     "execution_count": 8,
     "metadata": {},
     "output_type": "execute_result"
    }
   ],
   "source": [
    "U, S, V = np.linalg.svd(W)\n",
    "U[wtoi['hello']]"
   ]
  },
  {
   "cell_type": "markdown",
   "metadata": {},
   "source": [
    "차원을 줄이려면 단순히 앞에서부터의 숫자들을 꺼내면 된다.\n",
    "\n",
    "    ex. 'hello'를 2차원으로 줄이려면? U[wtoi['hello']] 의 앞 두 숫자만 가져오면 됨"
   ]
  },
  {
   "cell_type": "code",
   "execution_count": 9,
   "metadata": {},
   "outputs": [
    {
     "data": {
      "text/plain": [
       "array([-0.2897133,  0.2984982], dtype=float32)"
      ]
     },
     "execution_count": 9,
     "metadata": {},
     "output_type": "execute_result"
    }
   ],
   "source": [
    "U[wtoi['hello']][:2]"
   ]
  },
  {
   "cell_type": "markdown",
   "metadata": {},
   "source": [
    "각 단어를 2차원 벡터로 표현한 후 2차원 공간에 나타내 보기"
   ]
  },
  {
   "cell_type": "code",
   "execution_count": 18,
   "metadata": {},
   "outputs": [
    {
     "data": {
      "image/png": "[encoded data removed]",
      "text/plain": [
       "<Figure size 720x432 with 1 Axes>"
      ]
     },
     "metadata": {
      "needs_background": "light"
     },
     "output_type": "display_data"
    }
   ],
   "source": [
    "plt.figure(figsize=(10, 6))\n",
    "for word, word_id in wtoi.items():\n",
    "    plt.annotate(word, (U[word_id, 0], U[word_id, 1])) # add labels\n",
    "\n",
    "plt.scatter(U[:,0], U[:,1], alpha=0.7, color='g')\n",
    "plt.show()"
   ]
  },
  {
   "cell_type": "code",
   "execution_count": null,
   "metadata": {},
   "outputs": [],
   "source": []
  }
 ],
 "metadata": {
  "kernelspec": {
   "display_name": "Python 3",
   "language": "python",
   "name": "python3"
  },
  "language_info": {
   "codemirror_mode": {
    "name": "ipython",
    "version": 3
   },
   "file_extension": ".py",
   "mimetype": "text/x-python",
   "name": "python",
   "nbconvert_exporter": "python",
   "pygments_lexer": "ipython3",
   "version": "3.8.5"
  }
 },
 "nbformat": 4,
 "nbformat_minor": 4
}
