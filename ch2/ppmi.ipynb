{
 "cells": [
  {
   "cell_type": "code",
   "execution_count": 1,
   "metadata": {},
   "outputs": [],
   "source": [
    "import sys\n",
    "sys.path.append('/Users/jonas/DL_scratch2') # use parents directory files\n",
    "import numpy as np\n",
    "from common.util import preprocess, create_co_matrix, cos_similarity, ppmi"
   ]
  },
  {
   "cell_type": "code",
   "execution_count": 2,
   "metadata": {},
   "outputs": [],
   "source": [
    "text = 'You say goodbye and I say hello. I will follow you wherever you go.'\n",
    "corpus, wtoi, itow = preprocess(text)\n",
    "vocab_size = len(wtoi)"
   ]
  },
  {
   "cell_type": "code",
   "execution_count": 3,
   "metadata": {},
   "outputs": [],
   "source": [
    "C = create_co_matrix(corpus, vocab_size)\n",
    "W = ppmi(C)"
   ]
  },
  {
   "cell_type": "code",
   "execution_count": 4,
   "metadata": {},
   "outputs": [
    {
     "name": "stdout",
     "output_type": "stream",
     "text": [
      "동시발생 행렬\n",
      "[[0 1 0 0 0 0 0 0 1 2 1]\n",
      " [1 0 1 0 1 1 0 0 0 0 0]\n",
      " [0 1 0 1 0 0 0 0 0 0 0]\n",
      " [0 0 1 0 1 0 0 0 0 0 0]\n",
      " [0 1 0 1 0 0 1 1 0 0 0]\n",
      " [0 1 0 0 0 0 1 0 0 0 0]\n",
      " [0 0 0 0 1 1 0 0 0 0 1]\n",
      " [0 0 0 0 1 0 0 0 1 0 0]\n",
      " [1 0 0 0 0 0 0 1 0 0 0]\n",
      " [2 0 0 0 0 0 0 0 0 0 0]\n",
      " [1 0 0 0 0 0 1 0 0 0 0]]\n",
      "--------------------------------------------------\n",
      "PPMI\n",
      "[[0.    0.585 0.    0.    0.    0.    0.    0.    1.585 2.585 1.585]\n",
      " [0.585 0.    1.907 0.    0.907 1.907 0.    0.    0.    0.    0.   ]\n",
      " [0.    1.907 0.    2.907 0.    0.    0.    0.    0.    0.    0.   ]\n",
      " [0.    0.    2.907 0.    1.907 0.    0.    0.    0.    0.    0.   ]\n",
      " [0.    0.907 0.    1.907 0.    0.    1.322 1.907 0.    0.    0.   ]\n",
      " [0.    1.907 0.    0.    0.    0.    2.322 0.    0.    0.    0.   ]\n",
      " [0.    0.    0.    0.    1.322 2.322 0.    0.    0.    0.    2.322]\n",
      " [0.    0.    0.    0.    1.907 0.    0.    0.    2.907 0.    0.   ]\n",
      " [1.585 0.    0.    0.    0.    0.    0.    2.907 0.    0.    0.   ]\n",
      " [2.585 0.    0.    0.    0.    0.    0.    0.    0.    0.    0.   ]\n",
      " [1.585 0.    0.    0.    0.    0.    2.322 0.    0.    0.    0.   ]]\n"
     ]
    }
   ],
   "source": [
    "np.set_printoptions(precision=3) # 유효 자릿수를 세 자리로 표시\n",
    "print('동시발생 행렬')\n",
    "print(C)\n",
    "print('-'*50)\n",
    "print('PPMI')\n",
    "print(W)"
   ]
  },
  {
   "cell_type": "code",
   "execution_count": null,
   "metadata": {},
   "outputs": [],
   "source": []
  }
 ],
 "metadata": {
  "kernelspec": {
   "display_name": "Python 3",
   "language": "python",
   "name": "python3"
  },
  "language_info": {
   "codemirror_mode": {
    "name": "ipython",
    "version": 3
   },
   "file_extension": ".py",
   "mimetype": "text/x-python",
   "name": "python",
   "nbconvert_exporter": "python",
   "pygments_lexer": "ipython3",
   "version": "3.8.5"
  }
 },
 "nbformat": 4,
 "nbformat_minor": 4
}
