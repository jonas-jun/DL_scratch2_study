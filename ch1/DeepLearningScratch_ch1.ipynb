{
 "cells": [
  {
   "cell_type": "code",
   "execution_count": 1,
   "metadata": {},
   "outputs": [],
   "source": [
    "import numpy as np"
   ]
  },
  {
   "cell_type": "markdown",
   "metadata": {},
   "source": [
    "input: (len of batch, num of features)\n",
    "\n",
    "weight: (num of features, num of hidden neurons)\n",
    "\n",
    "bias: num of hidden neurons (broadcast)"
   ]
  },
  {
   "cell_type": "markdown",
   "metadata": {},
   "source": [
    "### make an example of neural networks \n",
    "\n",
    "    input features: 4\n",
    "    hidden layers: 2 (20, 20)\n",
    "    output classes: 10\n",
    "    batch size: 25\n",
    "    activation f: sigmoid"
   ]
  },
  {
   "cell_type": "code",
   "execution_count": 2,
   "metadata": {},
   "outputs": [],
   "source": [
    "def sigmoid(x):\n",
    "    return 1 / (1 + np.exp(-x))"
   ]
  },
  {
   "cell_type": "code",
   "execution_count": 3,
   "metadata": {},
   "outputs": [],
   "source": [
    "x = np.random.randn(25, 4)\n",
    "w1 = np.random.randn(4, 20)\n",
    "w2 = np.random.randn(20, 20)\n",
    "w3 = np.random.randn(20, 10)\n",
    "b1 = np.random.randn(20)\n",
    "b2 = np.random.randn(20)"
   ]
  },
  {
   "cell_type": "code",
   "execution_count": 4,
   "metadata": {},
   "outputs": [],
   "source": [
    "h1 = np.matmul(x, w1) + b1\n",
    "h2 = np.matmul(h1, w2) + b2\n",
    "h3 = np.matmul(h2, w3)\n",
    "y = sigmoid(h3)\n",
    "\n",
    "output = y.argmax(axis=1)"
   ]
  },
  {
   "cell_type": "code",
   "execution_count": 5,
   "metadata": {},
   "outputs": [
    {
     "output_type": "execute_result",
     "data": {
      "text/plain": "array([5, 5, 5, 4, 5, 5, 0, 3, 3, 5, 0, 3, 0, 3, 5, 3, 0, 3, 0, 3, 2, 8,\n       0, 0, 0])"
     },
     "metadata": {},
     "execution_count": 5
    }
   ],
   "source": [
    "output"
   ]
  },
  {
   "cell_type": "markdown",
   "metadata": {},
   "source": [
    "### TwoLayerNet class"
   ]
  },
  {
   "cell_type": "code",
   "execution_count": 6,
   "metadata": {},
   "outputs": [],
   "source": [
    "class Sigmoid:\n",
    "    def __init__(self):\n",
    "        self.params = list()\n",
    "    \n",
    "    def forward(self, x):\n",
    "        return 1 / (1 + np.exp(-x))\n",
    "    \n",
    "class Affine:\n",
    "    def __init__(self, w, b):\n",
    "        self.params = [w, b]\n",
    "        self.grads = [np.zeros_like(w), np.zeros_like(b)]\n",
    "        self.x = None\n",
    "        \n",
    "    def forward(self, x):\n",
    "        w, b = self.params\n",
    "        out = np.matmul(x, w) + b\n",
    "        self.x = x\n",
    "        return out\n",
    "\n",
    "    def backward(self, dout):\n",
    "        w, b = self.params\n",
    "        dx = np.matmul(dout, w.T)\n",
    "        dw = np.matmul(self.x.T, dout)\n",
    "        db = np.sum(dout, axis=0)\n",
    "\n",
    "        self.grads[0][...] = dw\n",
    "        self.grads[1][...] = db\n",
    "        return dx\n",
    "\n",
    "class TwoLayerNet:\n",
    "    def __init__(self, input_size, hidden_size, output_size):\n",
    "        I, H, O = input_size, hidden_size, output_size\n",
    "        \n",
    "        # initialize\n",
    "        w1 = np.random.randn(I, H)\n",
    "        b1 = np.random.randn(H)\n",
    "        w2 = np.random.randn(H, O)\n",
    "        b2 = np.random.randn(O)\n",
    "        \n",
    "        # make layers\n",
    "        self.layers = [\n",
    "            Affine(w1, b1),\n",
    "            Sigmoid(),\n",
    "            Affine(w2, b2)\n",
    "        ]\n",
    "        \n",
    "        # parameters\n",
    "        self.params = list()\n",
    "        for layer in self.layers:\n",
    "            self.params += layer.params\n",
    "            \n",
    "    def predict(self, x):\n",
    "        for layer in self.layers:\n",
    "            x = layer.forward(x)\n",
    "        return x\n",
    "\n",
    "class MatMul:\n",
    "    def __init__(self, w):\n",
    "        self.params = [w]\n",
    "        self.grads = [np.zeros_like(w)]\n",
    "        self.x = None\n",
    "\n",
    "    def forward(self, x):\n",
    "        w = self.params\n",
    "        out = np.matmul(x, w)\n",
    "        self.x = x\n",
    "        return out\n",
    "    \n",
    "    def backward(self, dout):\n",
    "        w = self.params\n",
    "        dx = np.matmul(dout, w.T)\n",
    "        dw = np.matmul(self.x.T, dout)\n",
    "        self.grads[0][...] = dw # [...]: deep copy\n",
    "        return dx"
   ]
  },
  {
   "cell_type": "code",
   "execution_count": 7,
   "metadata": {},
   "outputs": [
    {
     "output_type": "execute_result",
     "data": {
      "text/plain": "array([2, 1, 2, 1, 1, 1, 1, 1, 2, 2])"
     },
     "metadata": {},
     "execution_count": 7
    }
   ],
   "source": [
    "x = np.random.randn(10, 2)\n",
    "model = TwoLayerNet(2, 4, 3)\n",
    "s = model.predict(x)\n",
    "s.argmax(axis=1)"
   ]
  },
  {
   "cell_type": "code",
   "execution_count": 8,
   "metadata": {},
   "outputs": [
    {
     "output_type": "execute_result",
     "data": {
      "text/plain": "array([[-1.23350734,  0.43879021,  0.58573659],\n       [-2.39311572,  1.33205717,  0.59469898],\n       [ 0.07359665, -0.18569587,  0.6302144 ],\n       [-1.77459451,  1.18265017,  0.63969191],\n       [-2.46917619,  1.42073371,  0.58501893],\n       [-1.90508727,  1.08485231,  0.56693969],\n       [-2.17589771,  0.98408014,  0.65438396],\n       [-2.11279047,  1.20719844,  0.574844  ],\n       [-0.89702147,  0.2054461 ,  0.58852337],\n       [-1.55726994,  0.56462495,  0.62330277]])"
     },
     "metadata": {},
     "execution_count": 8
    }
   ],
   "source": [
    "s"
   ]
  },
  {
   "cell_type": "markdown",
   "metadata": {},
   "source": [
    "### Optimizer"
   ]
  },
  {
   "cell_type": "code",
   "execution_count": 9,
   "metadata": {},
   "outputs": [],
   "source": [
    "class SGD:\n",
    "    def __init__(self, lr=0.01):\n",
    "        self.lr = lr\n",
    "    \n",
    "    def update(self, params, grads):\n",
    "        for i in range(len(params)):\n",
    "            params[i] -= self.lr * grads[i]\n",
    "\n",
    "class Momentum:\n",
    "    '''\n",
    "    momentum SGD\n",
    "    '''\n",
    "    def __init__(self, lr=0.01, momentum=0.9):\n",
    "        self.lr = lr\n",
    "        self.momentum = momentum\n",
    "        self.v = None\n",
    "\n",
    "    def update(self, params, grads):\n",
    "        if self.v is None:\n",
    "            self.v = dict()\n",
    "            for key, val in params.items():\n",
    "                self.v[key] = np.zeros_like(val)\n",
    "\n",
    "        for key in params.key():\n",
    "            self.v[key] = self.momentum*self.v[key] - self.lr*grads[key]\n",
    "            params[key] += self.v[key]"
   ]
  },
  {
   "cell_type": "code",
   "execution_count": null,
   "metadata": {},
   "outputs": [],
   "source": []
  }
 ],
 "metadata": {
  "kernelspec": {
   "display_name": "Python 3",
   "language": "python",
   "name": "python3"
  },
  "language_info": {
   "codemirror_mode": {
    "name": "ipython",
    "version": 3
   },
   "file_extension": ".py",
   "mimetype": "text/x-python",
   "name": "python",
   "nbconvert_exporter": "python",
   "pygments_lexer": "ipython3",
   "version": "3.8.5"
  }
 },
 "nbformat": 4,
 "nbformat_minor": 4
}